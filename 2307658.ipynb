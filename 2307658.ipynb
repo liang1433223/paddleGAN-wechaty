{
 "cells": [
  {
   "cell_type": "markdown",
   "metadata": {
    "collapsed": false
   },
   "source": [
    "# 一.项目背景"
   ]
  },
  {
   "cell_type": "markdown",
   "metadata": {
    "collapsed": false
   },
   "source": [
    " **在临近七夕的时候paddleGAN更新了人脸融合的新玩法,正好AI创造营开始了,所以两者结合,让wechaty和paddleGAN结合起来**"
   ]
  },
  {
   "cell_type": "markdown",
   "metadata": {
    "collapsed": false
   },
   "source": [
    "# 二.关键技术"
   ]
  },
  {
   "cell_type": "markdown",
   "metadata": {
    "collapsed": false
   },
   "source": [
    "1. 基于wechaty-python的叮当机器人\n",
    "2. paddleGAN的人脸融合技术"
   ]
  },
  {
   "cell_type": "markdown",
   "metadata": {
    "collapsed": false
   },
   "source": [
    "# 三. 叮当机器人"
   ]
  },
  {
   "cell_type": "markdown",
   "metadata": {
    "collapsed": false
   },
   "source": [
    " 在阿里云服务器上创建一个docker,根据教程走,配置好环境变量,以及微信傀儡服务\n",
    " 启动docker\n",
    " ![](https://ai-studio-static-online.cdn.bcebos.com/00e9d320da584c789800988161dd0948bcbd071043ab4a409e678b6d79c527a2)\n",
    " \n",
    " "
   ]
  },
  {
   "cell_type": "markdown",
   "metadata": {
    "collapsed": false
   },
   "source": [
    "浏览器打开网址会出现二维码,扫描登陆即可,你的微信就变成了一个傀儡\n",
    "![](https://ai-studio-static-online.cdn.bcebos.com/f4f903dd9a9f41f58c1cf752e5430410ad3287c063834e4c891031045d4fe458)\n"
   ]
  },
  {
   "cell_type": "code",
   "execution_count": null,
   "metadata": {
    "collapsed": false
   },
   "outputs": [],
   "source": [
    "你可以选择在AI stduio上运行脚本任务\r\n",
    "也可以在本地运行\r\n",
    "具体参考下列教程"
   ]
  },
  {
   "cell_type": "markdown",
   "metadata": {
    "collapsed": false
   },
   "source": [
    "参考教程\n",
    "\n",
    "[教你用AI Studio+wechaty+阿里云白嫖一个智能微信机器人](https://aistudio.baidu.com/aistudio/projectdetail/1836012?shared=1)"
   ]
  },
  {
   "cell_type": "markdown",
   "metadata": {
    "collapsed": false
   },
   "source": [
    "# 四.paddleGAN人脸融合"
   ]
  },
  {
   "cell_type": "markdown",
   "metadata": {
    "collapsed": false
   },
   "source": [
    "参考资料\n",
    "\n",
    "[【PaddleGAN七夕特辑】人脸融合黑科技，揭秘后代长相](https://aistudio.baidu.com/aistudio/projectdetail/2254031?channel=0&channelType=0&shared=1)"
   ]
  },
  {
   "cell_type": "markdown",
   "metadata": {
    "collapsed": false
   },
   "source": [
    "考虑到人脸融合后难以分辨男女,通过通过调整融合权重即可达到较好的效果,\n",
    "在权重方面也可以涉及很多不一样的玩法,加个随机权重即可生成很多张不同的人脸![](https://ai-studio-static-online.cdn.bcebos.com/f1eaff99d80c4463a8c3e24fdd89ccb22c6735462e1c47a885f60512696a642f)\n",
    "\n"
   ]
  },
  {
   "cell_type": "markdown",
   "metadata": {
    "collapsed": false
   },
   "source": [
    "# 五.效果展示"
   ]
  },
  {
   "cell_type": "markdown",
   "metadata": {
    "collapsed": false
   },
   "source": [
    "接收两张图片\n",
    "![](https://ai-studio-static-online.cdn.bcebos.com/e5c81f001a6a4d45801196c51ba4a382a7a352124aba46d68c9af022744b5bfc)\n",
    "生成男生和女生\n",
    "![](https://ai-studio-static-online.cdn.bcebos.com/2ce0238f7ff74ee398dcd67000aa87caadf8028e53194c989e8e2eeeec4e1668)\n"
   ]
  },
  {
   "cell_type": "markdown",
   "metadata": {
    "collapsed": false
   },
   "source": [
    "两种同性的照片是生不成异性![](https://ai-studio-static-online.cdn.bcebos.com/1679f78b5e2744c594df61b7fd8d6146f3e97fa931df41d58b5cb0695df4d1a1)\n",
    "\n",
    "不要玩坏了![](https://ai-studio-static-online.cdn.bcebos.com/1aac3b8ee0ef4f4c9a3c46b0a1b70ec04e6c554b025a4784adf7069fca27d017)\n",
    "\n"
   ]
  },
  {
   "cell_type": "markdown",
   "metadata": {
    "collapsed": false
   },
   "source": [
    "# 六.致谢"
   ]
  },
  {
   "cell_type": "markdown",
   "metadata": {
    "collapsed": false
   },
   "source": [
    "感谢热心网友的帮助\n",
    "感谢飞浆官方提供的资源\n",
    "后期也可以加上随机生成两个人融合过的人脸\n",
    "第一次写项目,写的不好请见谅"
   ]
  },
  {
   "cell_type": "markdown",
   "metadata": {
    "collapsed": false
   },
   "source": [
    "请点击[此处](https://ai.baidu.com/docs#/AIStudio_Project_Notebook/a38e5576)查看本环境基本用法.  <br>\n",
    "Please click [here ](https://ai.baidu.com/docs#/AIStudio_Project_Notebook/a38e5576) for more detailed instructions. "
   ]
  }
 ],
 "metadata": {
  "kernelspec": {
   "display_name": "PaddlePaddle 2.1.2 (Python 3.5)",
   "language": "python",
   "name": "py35-paddle1.2.0"
  },
  "language_info": {
   "codemirror_mode": {
    "name": "ipython",
    "version": 3
   },
   "file_extension": ".py",
   "mimetype": "text/x-python",
   "name": "python",
   "nbconvert_exporter": "python",
   "pygments_lexer": "ipython3",
   "version": "3.7.4"
  }
 },
 "nbformat": 4,
 "nbformat_minor": 1
}
